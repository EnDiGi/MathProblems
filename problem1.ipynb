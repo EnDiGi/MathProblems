{
  "nbformat": 4,
  "nbformat_minor": 0,
  "metadata": {
    "colab": {
      "provenance": []
    },
    "kernelspec": {
      "name": "python3",
      "display_name": "Python 3"
    },
    "language_info": {
      "name": "python"
    }
  },
  "cells": [
    {
      "cell_type": "markdown",
      "source": [
        "# Problem 1\n",
        "\n",
        "The problem is the following:  \n",
        "$f(x) = x mod 2$  \n",
        "$f(\\lfloor \\frac{1}{45} \\rfloor) + f(\\lfloor \\frac{21}{45} \\rfloor) + f(\\lfloor \\frac{321}{45} \\rfloor) + f(\\lfloor \\frac{4321}{45} \\rfloor) + ... f(\\lfloor \\frac{99989796...321}{45} \\rfloor) = ? $  \n",
        "\n",
        "Here is a resolution in python:"
      ],
      "metadata": {
        "id": "fdzkzvf8wYBs"
      }
    },
    {
      "cell_type": "code",
      "source": [
        "\n",
        "import math\n",
        "\n",
        "def f(x):\n",
        "  return x % 2\n",
        "\n",
        "def main():\n",
        "  solution = 0\n",
        "  numerator = \"\"\n",
        "  for i in range(1, 100):\n",
        "    numerator = str(i) + numerator\n",
        "    x = int(numerator) // 45\n",
        "    solution += f(x)\n",
        "\n",
        "  print(solution)\n",
        "\n",
        "main()"
      ],
      "metadata": {
        "colab": {
          "base_uri": "https://localhost:8080/"
        },
        "collapsed": true,
        "id": "3jZBd06AydFM",
        "outputId": "29372ba0-6944-4fa3-d90f-3b501da19700"
      },
      "execution_count": 1,
      "outputs": [
        {
          "output_type": "stream",
          "name": "stdout",
          "text": [
            "44\n"
          ]
        }
      ]
    }
  ]
}