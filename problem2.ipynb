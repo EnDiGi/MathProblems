{
  "nbformat": 4,
  "nbformat_minor": 0,
  "metadata": {
    "colab": {
      "provenance": []
    },
    "kernelspec": {
      "name": "python3",
      "display_name": "Python 3"
    },
    "language_info": {
      "name": "python"
    }
  },
  "cells": [
    {
      "cell_type": "markdown",
      "source": [
        "The problem is the following  \n",
        "\n",
        "If a family has a child until a boy is born, what will the average proportion of boys to girls be?"
      ],
      "metadata": {
        "id": "dgqgSO1nIIuD"
      }
    },
    {
      "cell_type": "code",
      "execution_count": 9,
      "metadata": {
        "colab": {
          "base_uri": "https://localhost:8080/"
        },
        "id": "Cv-KJ35DIHDe",
        "outputId": "b6082ae0-2950-4c84-b5a4-c6d79234ca55"
      },
      "outputs": [
        {
          "output_type": "stream",
          "name": "stdout",
          "text": [
            "1.000633\n"
          ]
        }
      ],
      "source": [
        "\n",
        "from random import random\n",
        "from statistics import mean\n",
        "\n",
        "data = []\n",
        "\n",
        "for _ in range(1000000):\n",
        "  girls = 0\n",
        "  boys = 0\n",
        "  while boys == 0:\n",
        "    if random() > 0.5:\n",
        "      girls += 1\n",
        "    else:\n",
        "      boys += 1\n",
        "\n",
        "  data.append(girls / boys)\n",
        "\n",
        "print(mean(data))"
      ]
    }
  ]
}